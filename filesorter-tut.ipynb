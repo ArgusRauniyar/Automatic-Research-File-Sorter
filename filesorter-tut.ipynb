{
 "cells": [
  {
   "cell_type": "markdown",
   "id": "b2cd59be-fb17-46cc-b29d-f5760954660d",
   "metadata": {},
   "source": [
    "Code for automatic file sorter"
   ]
  },
  {
   "cell_type": "code",
   "execution_count": 3,
   "id": "03857795-2f9d-4d29-bff6-acdfe4f7e098",
   "metadata": {},
   "outputs": [],
   "source": [
    "import os, shutil"
   ]
  },
  {
   "cell_type": "code",
   "execution_count": 36,
   "id": "4de79eb5-9469-4b05-add0-b6768a264e7e",
   "metadata": {},
   "outputs": [],
   "source": [
    "path = r\"path of your folder where you wish to sort\""
   ]
  },
  {
   "cell_type": "markdown",
   "id": "0ce3df97-5e8a-4160-a4e9-c09d1bd0250b",
   "metadata": {},
   "source": [
    "File opening"
   ]
  },
  {
   "cell_type": "code",
   "execution_count": 37,
   "id": "3c381b57-1d28-408b-a27e-5b64a3a1db7b",
   "metadata": {},
   "outputs": [],
   "source": [
    "file_name = os.listdir(path) #shows all files in path"
   ]
  },
  {
   "cell_type": "code",
   "execution_count": 38,
   "id": "a9135d26-3a02-47c3-a770-c3b399b47109",
   "metadata": {},
   "outputs": [],
   "source": [
    "folder_names=[\"csv files\",\"image files\",\"text files\",\"pdf files\"]  #list of folder names - change it according to your choice\n",
    "\n",
    "for loop in range(0,4): #adjust range according to n of directories\n",
    "    if not os.path.exists(path + folder_names[loop]):\n",
    "        print(path + folder_names[loop])\n",
    "        os.makedirs((path + folder_names[loop]))        "
   ]
  },
  {
   "cell_type": "markdown",
   "id": "7b073374-8580-44d1-8a58-f8f76b42b5ac",
   "metadata": {},
   "source": [
    "Use this for all file types\n",
    "\n",
    "for file in file_name\n",
    "    if \"file type\" in file and not os.path.exists(path+ \"specific directory/\" + file):\n",
    "        shutil.move(path+ file, path + \"specific directory/\" + file)\n",
    "    elif \"file type\" in file and not os.path.exists(path+ \"specific directory/\" + file):\n",
    "        shutil.move(path+ file, path + \"specific directory/\" + file)\n",
    "    elif ..... (until all covered)\n"
   ]
  },
  {
   "cell_type": "code",
   "execution_count": 39,
   "id": "b5979c22-a2b0-418f-910b-95a9ab7a4629",
   "metadata": {},
   "outputs": [],
   "source": [
    "for file in file_name:\n",
    "    if \".csv\" in file and not os.path.exists(path+ \"csv files/\" + file):\n",
    "        shutil.move(path + file, path + \"csv files/\" + file)\n",
    "    elif \".png\" in file and not os.path.exists(path+ \"image files/\" + file):\n",
    "        shutil.move(path + file, path + \"image files/\" + file)\n",
    "    elif \".docx\" in file and not os.path.exists(path+ \"text files/\" + file):\n",
    "        shutil.move(path + file, path + \"image files/\" + file)\n",
    "    elif \".pdf\" in file and not os.path.exists(path+ \"pdf files/\" + file):\n",
    "        shutil.move(path + file, path + \"pdf files/\" + file)\n",
    "        \n",
    "        "
   ]
  }
 ],
 "metadata": {
  "kernelspec": {
   "display_name": "Python 3 (ipykernel)",
   "language": "python",
   "name": "python3"
  },
  "language_info": {
   "codemirror_mode": {
    "name": "ipython",
    "version": 3
   },
   "file_extension": ".py",
   "mimetype": "text/x-python",
   "name": "python",
   "nbconvert_exporter": "python",
   "pygments_lexer": "ipython3",
   "version": "3.12.2"
  }
 },
 "nbformat": 4,
 "nbformat_minor": 5
}
